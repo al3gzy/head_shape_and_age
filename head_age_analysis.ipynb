{
  "nbformat": 4,
  "nbformat_minor": 0,
  "metadata": {
    "colab": {
      "provenance": []
    },
    "kernelspec": {
      "name": "python3",
      "display_name": "Python 3"
    },
    "language_info": {
      "name": "python"
    }
  },
  "cells": [
    {
      "cell_type": "code",
      "execution_count": null,
      "metadata": {
        "id": "q9x07dWABRSU"
      },
      "outputs": [],
      "source": [
        "import pandas as pd\n",
        "import numpy as np\n",
        "import seaborn as sns\n",
        "import matplotlib.pyplot as plt\n",
        "from scipy import stats\n",
        "from sklearn.ensemble import RandomForestClassifier\n",
        "from sklearn.svm import SVC\n",
        "from sklearn.linear_model import LogisticRegression, Ridge, Lasso\n",
        "from sklearn.cluster import KMeans\n",
        "from sklearn.decomposition import PCA\n",
        "from sklearn.preprocessing import StandardScaler\n",
        "from sklearn.model_selection import train_test_split\n",
        "from sklearn.metrics import classification_report, mean_squared_error"
      ]
    },
    {
      "cell_type": "code",
      "source": [
        "file_path = \"podaci.xlsx\"\n",
        "df = pd.read_excel(file_path)"
      ],
      "metadata": {
        "id": "rWv2sXqABUUV"
      },
      "execution_count": null,
      "outputs": []
    },
    {
      "cell_type": "code",
      "source": [
        "current_year = pd.to_datetime(\"today\").year\n",
        "df[\"Године\"] = current_year - pd.to_datetime(df[\"Датум рођења\"]).dt.year\n",
        "df[\"Старосна група\"] = pd.cut(df[\"Године\"], bins=[0, 18, 30, 50, 100], labels=[\"<18\", \"18-30\", \"30-50\", \"50+\"])\n",
        "print(df.describe())"
      ],
      "metadata": {
        "id": "GzG8uj1mBXM3"
      },
      "execution_count": null,
      "outputs": []
    },
    {
      "cell_type": "code",
      "source": [
        "plt.figure(figsize=(12, 8))\n",
        "sns.heatmap(df.corr(numeric_only=True), annot=True, cmap=\"coolwarm\", fmt=\".2f\")\n",
        "plt.title(\"Корелациона матрица\")\n",
        "plt.show()"
      ],
      "metadata": {
        "id": "SvCUMjUbBaO1"
      },
      "execution_count": null,
      "outputs": []
    },
    {
      "cell_type": "code",
      "source": [
        "plt.figure(figsize=(12, 8))\n",
        "sns.heatmap(df.corr(numeric_only=True), annot=True, cmap=\"coolwarm\", fmt=\".2f\")\n",
        "plt.title(\"Корелациона матрица\")\n",
        "plt.show()"
      ],
      "metadata": {
        "id": "UmCP-LeYBhmS"
      },
      "execution_count": null,
      "outputs": []
    },
    {
      "cell_type": "code",
      "source": [
        "plt.figure(figsize=(10, 6))\n",
        "sns.boxplot(x=\"Старосна група\", y=\"Висина (цм)\", data=df)\n",
        "plt.title(\"Висина у функцији старосне групе\")\n",
        "plt.show()"
      ],
      "metadata": {
        "id": "jRZPo0GCBoyI"
      },
      "execution_count": null,
      "outputs": []
    },
    {
      "cell_type": "code",
      "source": [
        "anova_p = stats.f_oneway(df[df[\"Старосна група\"] == \"18-30\"][\"Висина (цм)\"],\n",
        "                         df[df[\"Старосна група\"] == \"30-50\"][\"Висина (цм)\"],\n",
        "                         df[df[\"Старосна група\"] == \"50+\"][\"Висина (цм)\"])\n",
        "print(\"ANOVA p-vrednost za visinu:\", anova_p.pvalue)"
      ],
      "metadata": {
        "id": "y8ymr2oDBtaq"
      },
      "execution_count": null,
      "outputs": []
    },
    {
      "cell_type": "code",
      "source": [
        "X = df[[\"Дужина главе\", \"Ширина главе\", \"Ширина лица\"]]\n",
        "y = df[\"Старосна група\"]\n",
        "X_train, X_test, y_train, y_test = train_test_split(X, y, test_size=0.2, random_state=42)\n",
        "models = {\n",
        "    \"Random Forest\": RandomForestClassifier(),\n",
        "    \"SVM\": SVC(),\n",
        "    \"Logistic Regression\": LogisticRegression()\n",
        "}\n",
        "for name, model in models.items():\n",
        "    model.fit(X_train, y_train)\n",
        "    y_pred = model.predict(X_test)\n",
        "    print(f\"{name} Klasifikacija:\\n\", classification_report(y_test, y_pred))"
      ],
      "metadata": {
        "id": "QLSCBbzCBwEt"
      },
      "execution_count": null,
      "outputs": []
    },
    {
      "cell_type": "code",
      "source": [
        "X = df[[\"Године\"]]\n",
        "y = df[\"Висина (цм)\"]\n",
        "X_train, X_test, y_train, y_test = train_test_split(X, y, test_size=0.2, random_state=42)\n",
        "\n",
        "ridge = Ridge().fit(X_train, y_train)\n",
        "lasso = Lasso().fit(X_train, y_train)\n",
        "y_pred_ridge = ridge.predict(X_test)\n",
        "y_pred_lasso = lasso.predict(X_test)\n",
        "print(\"Ridge MSE:\", mean_squared_error(y_test, y_pred_ridge))\n",
        "print(\"Lasso MSE:\", mean_squared_error(y_test, y_pred_lasso))"
      ],
      "metadata": {
        "id": "Fv6AgExCB08G"
      },
      "execution_count": null,
      "outputs": []
    },
    {
      "cell_type": "code",
      "source": [
        "kmeans = KMeans(n_clusters=3)\n",
        "kmeans.fit(df[[\"Дужина главе\", \"Ширина главе\", \"Ширина лица\"]])\n",
        "df[\"Кластер\"] = kmeans.labels_\n",
        "sns.scatterplot(x=df[\"Ширина главе\"], y=df[\"Ширина лица\"], hue=df[\"Кластер\"], palette=\"viridis\")\n",
        "plt.title(\"Кластери по облику главе\")\n",
        "plt.show()"
      ],
      "metadata": {
        "id": "-VU910MLB64R"
      },
      "execution_count": null,
      "outputs": []
    },
    {
      "cell_type": "code",
      "source": [
        "scaler = StandardScaler()\n",
        "X_scaled = scaler.fit_transform(df.iloc[:, 3:-1])\n",
        "pca = PCA(n_components=2)\n",
        "X_pca = pca.fit_transform(X_scaled)\n",
        "plt.scatter(X_pca[:, 0], X_pca[:, 1])\n",
        "plt.title(\"PCA Analiza\")\n",
        "plt.xlabel(\"Glavna komponenta 1\")\n",
        "plt.ylabel(\"Glavna komponenta 2\")\n",
        "plt.show()"
      ],
      "metadata": {
        "id": "ekgmazhWB8qR"
      },
      "execution_count": null,
      "outputs": []
    }
  ]
}